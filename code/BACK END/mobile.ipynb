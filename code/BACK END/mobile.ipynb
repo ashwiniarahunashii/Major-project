{
 "cells": [
  {
   "attachments": {},
   "cell_type": "markdown",
   "metadata": {},
   "source": [
    "# **Machine learning model for prediction of smartphone addiction**"
   ]
  },
  {
   "cell_type": "markdown",
   "metadata": {},
   "source": []
  },
  {
   "attachments": {},
   "cell_type": "markdown",
   "metadata": {},
   "source": [
    "# **Import Statements**"
   ]
  },
  {
   "cell_type": "code",
   "execution_count": null,
   "metadata": {},
   "outputs": [],
   "source": [
    "import pandas as pd\n",
    "from matplotlib import pyplot as plt\n",
    "import seaborn as sns\n",
    "from sklearn.preprocessing import LabelEncoder\n",
    "from imblearn.over_sampling import RandomOverSampler\n",
    "from sklearn.model_selection import train_test_split\n",
    "from sklearn.metrics import accuracy_score"
   ]
  },
  {
   "attachments": {},
   "cell_type": "markdown",
   "metadata": {},
   "source": [
    "# **read The Dataset**"
   ]
  },
  {
   "cell_type": "code",
   "execution_count": 12,
   "metadata": {},
   "outputs": [],
   "source": [
    "# read The csv file\n",
    "df = pd.read_csv(\"20230329093832Mobile-Addiction-.csv\")"
   ]
  },
  {
   "cell_type": "code",
   "execution_count": 13,
   "metadata": {},
   "outputs": [
    {
     "data": {
      "text/html": [
       "<div>\n",
       "<style scoped>\n",
       "    .dataframe tbody tr th:only-of-type {\n",
       "        vertical-align: middle;\n",
       "    }\n",
       "\n",
       "    .dataframe tbody tr th {\n",
       "        vertical-align: top;\n",
       "    }\n",
       "\n",
       "    .dataframe thead th {\n",
       "        text-align: right;\n",
       "    }\n",
       "</style>\n",
       "<table border=\"1\" class=\"dataframe\">\n",
       "  <thead>\n",
       "    <tr style=\"text-align: right;\">\n",
       "      <th></th>\n",
       "      <th>Timestamp</th>\n",
       "      <th>Full Name :</th>\n",
       "      <th>Gender :</th>\n",
       "      <th>Do you use your phone to click pictures of class notes?</th>\n",
       "      <th>Do you buy books/access books from your mobile?</th>\n",
       "      <th>Does your phone's battery last a day?</th>\n",
       "      <th>When your phone's battery dies out, do you run for the charger?</th>\n",
       "      <th>Do you worry about losing your cell phone?</th>\n",
       "      <th>Do you take your phone to the bathroom?</th>\n",
       "      <th>Do you use your phone in any social gathering (parties)?</th>\n",
       "      <th>...</th>\n",
       "      <th>Do you check your phone just before going to sleep/just after waking up?</th>\n",
       "      <th>Do you keep your phone right next to you while sleeping?</th>\n",
       "      <th>Do you check emails, missed calls, texts during class time?</th>\n",
       "      <th>Do you find yourself relying on your phone when things get awkward?</th>\n",
       "      <th>Are you on your phone while watching TV or eating food?</th>\n",
       "      <th>Do you have a panic attack if you leave your phone elsewhere?</th>\n",
       "      <th>You don't mind responding to messages or checking your phone while on date?</th>\n",
       "      <th>For how long do you use your phone for playing games?</th>\n",
       "      <th>Can you live a day without phone ?</th>\n",
       "      <th>whether you are addicted to phone?</th>\n",
       "    </tr>\n",
       "  </thead>\n",
       "  <tbody>\n",
       "    <tr>\n",
       "      <th>0</th>\n",
       "      <td>2023/02/17 2:21:53 PM GMT+5:30</td>\n",
       "      <td>Dabbeta Ganesh Kumar</td>\n",
       "      <td>MALE</td>\n",
       "      <td>Yes</td>\n",
       "      <td>Yes</td>\n",
       "      <td>Yes</td>\n",
       "      <td>Yes;No</td>\n",
       "      <td>Yes</td>\n",
       "      <td>Yes</td>\n",
       "      <td>Yes</td>\n",
       "      <td>...</td>\n",
       "      <td>Yes</td>\n",
       "      <td>Yes</td>\n",
       "      <td>Yes</td>\n",
       "      <td>Yes</td>\n",
       "      <td>Yes</td>\n",
       "      <td>Yes</td>\n",
       "      <td>Yes</td>\n",
       "      <td>&lt;2 hours</td>\n",
       "      <td>NaN</td>\n",
       "      <td>NaN</td>\n",
       "    </tr>\n",
       "    <tr>\n",
       "      <th>1</th>\n",
       "      <td>2023/02/24 4:28:34 PM GMT+5:30</td>\n",
       "      <td>Mir Junaid Rasool</td>\n",
       "      <td>MALE</td>\n",
       "      <td>Yes</td>\n",
       "      <td>No</td>\n",
       "      <td>Yes</td>\n",
       "      <td>Yes</td>\n",
       "      <td>Yes</td>\n",
       "      <td>Yes</td>\n",
       "      <td>Yes</td>\n",
       "      <td>...</td>\n",
       "      <td>Yes</td>\n",
       "      <td>Yes</td>\n",
       "      <td>No</td>\n",
       "      <td>Yes</td>\n",
       "      <td>No</td>\n",
       "      <td>Yes</td>\n",
       "      <td>Yes</td>\n",
       "      <td>&lt;2 hours</td>\n",
       "      <td>No</td>\n",
       "      <td>Maybe</td>\n",
       "    </tr>\n",
       "    <tr>\n",
       "      <th>2</th>\n",
       "      <td>2023/02/24 4:34:02 PM GMT+5:30</td>\n",
       "      <td>Dev</td>\n",
       "      <td>MALE</td>\n",
       "      <td>Yes</td>\n",
       "      <td>No</td>\n",
       "      <td>No</td>\n",
       "      <td>Yes</td>\n",
       "      <td>Yes</td>\n",
       "      <td>Yes</td>\n",
       "      <td>Yes</td>\n",
       "      <td>...</td>\n",
       "      <td>Yes</td>\n",
       "      <td>Yes</td>\n",
       "      <td>No</td>\n",
       "      <td>Yes</td>\n",
       "      <td>Yes</td>\n",
       "      <td>Yes</td>\n",
       "      <td>Yes</td>\n",
       "      <td>&gt;2 hours</td>\n",
       "      <td>No</td>\n",
       "      <td>Yes</td>\n",
       "    </tr>\n",
       "    <tr>\n",
       "      <th>3</th>\n",
       "      <td>2023/02/27 3:32:22 PM GMT+5:30</td>\n",
       "      <td>A.RuthvikDev</td>\n",
       "      <td>MALE</td>\n",
       "      <td>Yes</td>\n",
       "      <td>No</td>\n",
       "      <td>Yes</td>\n",
       "      <td>Yes</td>\n",
       "      <td>Yes</td>\n",
       "      <td>No</td>\n",
       "      <td>Yes</td>\n",
       "      <td>...</td>\n",
       "      <td>Yes</td>\n",
       "      <td>Yes</td>\n",
       "      <td>Yes</td>\n",
       "      <td>Yes</td>\n",
       "      <td>No</td>\n",
       "      <td>Yes</td>\n",
       "      <td>No</td>\n",
       "      <td>&lt;2 hours</td>\n",
       "      <td>Yes</td>\n",
       "      <td>No</td>\n",
       "    </tr>\n",
       "    <tr>\n",
       "      <th>4</th>\n",
       "      <td>2023/02/27 3:33:44 PM GMT+5:30</td>\n",
       "      <td>Vishnu</td>\n",
       "      <td>MALE</td>\n",
       "      <td>Yes</td>\n",
       "      <td>Yes</td>\n",
       "      <td>Yes</td>\n",
       "      <td>Yes</td>\n",
       "      <td>Yes</td>\n",
       "      <td>No</td>\n",
       "      <td>Yes</td>\n",
       "      <td>...</td>\n",
       "      <td>Yes</td>\n",
       "      <td>NaN</td>\n",
       "      <td>No</td>\n",
       "      <td>No</td>\n",
       "      <td>No</td>\n",
       "      <td>No</td>\n",
       "      <td>No</td>\n",
       "      <td>&lt;2 hours</td>\n",
       "      <td>Yes</td>\n",
       "      <td>No</td>\n",
       "    </tr>\n",
       "  </tbody>\n",
       "</table>\n",
       "<p>5 rows × 21 columns</p>\n",
       "</div>"
      ],
      "text/plain": [
       "                        Timestamp           Full Name : Gender :  \\\n",
       "0  2023/02/17 2:21:53 PM GMT+5:30  Dabbeta Ganesh Kumar     MALE   \n",
       "1  2023/02/24 4:28:34 PM GMT+5:30     Mir Junaid Rasool     MALE   \n",
       "2  2023/02/24 4:34:02 PM GMT+5:30                   Dev     MALE   \n",
       "3  2023/02/27 3:32:22 PM GMT+5:30          A.RuthvikDev     MALE   \n",
       "4  2023/02/27 3:33:44 PM GMT+5:30               Vishnu      MALE   \n",
       "\n",
       "  Do you use your phone to click pictures of class notes?  \\\n",
       "0                                                Yes        \n",
       "1                                                Yes        \n",
       "2                                                Yes        \n",
       "3                                                Yes        \n",
       "4                                                Yes        \n",
       "\n",
       "  Do you buy books/access books from your mobile?  \\\n",
       "0                                             Yes   \n",
       "1                                              No   \n",
       "2                                              No   \n",
       "3                                              No   \n",
       "4                                             Yes   \n",
       "\n",
       "  Does your phone's battery last a day?  \\\n",
       "0                                   Yes   \n",
       "1                                   Yes   \n",
       "2                                    No   \n",
       "3                                   Yes   \n",
       "4                                   Yes   \n",
       "\n",
       "  When your phone's battery dies out, do you run for the charger?  \\\n",
       "0                                             Yes;No                \n",
       "1                                                Yes                \n",
       "2                                                Yes                \n",
       "3                                                Yes                \n",
       "4                                                Yes                \n",
       "\n",
       "  Do you worry about losing your cell phone?  \\\n",
       "0                                        Yes   \n",
       "1                                        Yes   \n",
       "2                                        Yes   \n",
       "3                                        Yes   \n",
       "4                                        Yes   \n",
       "\n",
       "  Do you take your phone to the bathroom?  \\\n",
       "0                                     Yes   \n",
       "1                                     Yes   \n",
       "2                                     Yes   \n",
       "3                                      No   \n",
       "4                                      No   \n",
       "\n",
       "  Do you use your phone in any social gathering (parties)?  ...  \\\n",
       "0                                                Yes        ...   \n",
       "1                                                Yes        ...   \n",
       "2                                                Yes        ...   \n",
       "3                                                Yes        ...   \n",
       "4                                                Yes        ...   \n",
       "\n",
       "  Do you check your phone just before going to sleep/just after waking up?  \\\n",
       "0                                                Yes                         \n",
       "1                                                Yes                         \n",
       "2                                                Yes                         \n",
       "3                                                Yes                         \n",
       "4                                                Yes                         \n",
       "\n",
       "  Do you keep your phone right next to you while sleeping?  \\\n",
       "0                                                Yes         \n",
       "1                                                Yes         \n",
       "2                                                Yes         \n",
       "3                                                Yes         \n",
       "4                                                NaN         \n",
       "\n",
       "  Do you check emails, missed calls, texts during class time?   \\\n",
       "0                                                Yes             \n",
       "1                                                 No             \n",
       "2                                                 No             \n",
       "3                                                Yes             \n",
       "4                                                 No             \n",
       "\n",
       "  Do you find yourself relying on your phone when things get awkward?  \\\n",
       "0                                                Yes                    \n",
       "1                                                Yes                    \n",
       "2                                                Yes                    \n",
       "3                                                Yes                    \n",
       "4                                                 No                    \n",
       "\n",
       "  Are you on your phone while watching TV or eating food?  \\\n",
       "0                                                Yes        \n",
       "1                                                 No        \n",
       "2                                                Yes        \n",
       "3                                                 No        \n",
       "4                                                 No        \n",
       "\n",
       "  Do you have a panic attack if you leave your phone elsewhere?  \\\n",
       "0                                                Yes              \n",
       "1                                                Yes              \n",
       "2                                                Yes              \n",
       "3                                                Yes              \n",
       "4                                                 No              \n",
       "\n",
       "  You don't mind responding to messages or checking your phone while on date?   \\\n",
       "0                                                Yes                             \n",
       "1                                                Yes                             \n",
       "2                                                Yes                             \n",
       "3                                                 No                             \n",
       "4                                                 No                             \n",
       "\n",
       "  For how long do you use your phone for playing games?  \\\n",
       "0                                           <2 hours      \n",
       "1                                           <2 hours      \n",
       "2                                           >2 hours      \n",
       "3                                           <2 hours      \n",
       "4                                           <2 hours      \n",
       "\n",
       "  Can you live a day without phone ?  whether you are addicted to phone?  \n",
       "0                                 NaN                                NaN  \n",
       "1                                  No                              Maybe  \n",
       "2                                  No                                Yes  \n",
       "3                                 Yes                                 No  \n",
       "4                                 Yes                                 No  \n",
       "\n",
       "[5 rows x 21 columns]"
      ]
     },
     "execution_count": 13,
     "metadata": {},
     "output_type": "execute_result"
    }
   ],
   "source": [
    "# Show The First Five Row\n",
    "df.head()"
   ]
  },
  {
   "cell_type": "code",
   "execution_count": 14,
   "metadata": {},
   "outputs": [
    {
     "data": {
      "text/html": [
       "<div>\n",
       "<style scoped>\n",
       "    .dataframe tbody tr th:only-of-type {\n",
       "        vertical-align: middle;\n",
       "    }\n",
       "\n",
       "    .dataframe tbody tr th {\n",
       "        vertical-align: top;\n",
       "    }\n",
       "\n",
       "    .dataframe thead th {\n",
       "        text-align: right;\n",
       "    }\n",
       "</style>\n",
       "<table border=\"1\" class=\"dataframe\">\n",
       "  <thead>\n",
       "    <tr style=\"text-align: right;\">\n",
       "      <th></th>\n",
       "      <th>Timestamp</th>\n",
       "      <th>Full Name :</th>\n",
       "      <th>Gender :</th>\n",
       "      <th>Do you use your phone to click pictures of class notes?</th>\n",
       "      <th>Do you buy books/access books from your mobile?</th>\n",
       "      <th>Does your phone's battery last a day?</th>\n",
       "      <th>When your phone's battery dies out, do you run for the charger?</th>\n",
       "      <th>Do you worry about losing your cell phone?</th>\n",
       "      <th>Do you take your phone to the bathroom?</th>\n",
       "      <th>Do you use your phone in any social gathering (parties)?</th>\n",
       "      <th>...</th>\n",
       "      <th>Do you check your phone just before going to sleep/just after waking up?</th>\n",
       "      <th>Do you keep your phone right next to you while sleeping?</th>\n",
       "      <th>Do you check emails, missed calls, texts during class time?</th>\n",
       "      <th>Do you find yourself relying on your phone when things get awkward?</th>\n",
       "      <th>Are you on your phone while watching TV or eating food?</th>\n",
       "      <th>Do you have a panic attack if you leave your phone elsewhere?</th>\n",
       "      <th>You don't mind responding to messages or checking your phone while on date?</th>\n",
       "      <th>For how long do you use your phone for playing games?</th>\n",
       "      <th>Can you live a day without phone ?</th>\n",
       "      <th>whether you are addicted to phone?</th>\n",
       "    </tr>\n",
       "  </thead>\n",
       "  <tbody>\n",
       "    <tr>\n",
       "      <th>496</th>\n",
       "      <td>2023/03/28 2:36:46 PM GMT+5:30</td>\n",
       "      <td>Sahadev</td>\n",
       "      <td>MALE</td>\n",
       "      <td>No</td>\n",
       "      <td>No</td>\n",
       "      <td>No</td>\n",
       "      <td>Yes</td>\n",
       "      <td>No</td>\n",
       "      <td>No</td>\n",
       "      <td>No</td>\n",
       "      <td>...</td>\n",
       "      <td>Yes</td>\n",
       "      <td>Yes</td>\n",
       "      <td>No</td>\n",
       "      <td>No</td>\n",
       "      <td>Yes</td>\n",
       "      <td>Yes</td>\n",
       "      <td>No</td>\n",
       "      <td>&lt;2 hours</td>\n",
       "      <td>Yes</td>\n",
       "      <td>No</td>\n",
       "    </tr>\n",
       "    <tr>\n",
       "      <th>497</th>\n",
       "      <td>2023/03/28 2:37:54 PM GMT+5:30</td>\n",
       "      <td>Chandra</td>\n",
       "      <td>MALE</td>\n",
       "      <td>Yes</td>\n",
       "      <td>No</td>\n",
       "      <td>Yes</td>\n",
       "      <td>Yes</td>\n",
       "      <td>No</td>\n",
       "      <td>Yes</td>\n",
       "      <td>Yes</td>\n",
       "      <td>...</td>\n",
       "      <td>Yes</td>\n",
       "      <td>Yes</td>\n",
       "      <td>Yes</td>\n",
       "      <td>No</td>\n",
       "      <td>Yes</td>\n",
       "      <td>Yes</td>\n",
       "      <td>Yes</td>\n",
       "      <td>&gt;2 hours</td>\n",
       "      <td>Yes</td>\n",
       "      <td>No</td>\n",
       "    </tr>\n",
       "    <tr>\n",
       "      <th>498</th>\n",
       "      <td>2023/03/28 2:38:26 PM GMT+5:30</td>\n",
       "      <td>Laxman</td>\n",
       "      <td>MALE</td>\n",
       "      <td>No</td>\n",
       "      <td>No</td>\n",
       "      <td>Yes</td>\n",
       "      <td>Yes</td>\n",
       "      <td>Yes</td>\n",
       "      <td>No</td>\n",
       "      <td>Yes</td>\n",
       "      <td>...</td>\n",
       "      <td>No</td>\n",
       "      <td>No</td>\n",
       "      <td>Yes</td>\n",
       "      <td>No</td>\n",
       "      <td>Yes</td>\n",
       "      <td>No</td>\n",
       "      <td>Yes</td>\n",
       "      <td>&gt;2 hours</td>\n",
       "      <td>Yes</td>\n",
       "      <td>Yes</td>\n",
       "    </tr>\n",
       "    <tr>\n",
       "      <th>499</th>\n",
       "      <td>2023/03/28 2:39:19 PM GMT+5:30</td>\n",
       "      <td>Sheri mohan</td>\n",
       "      <td>MALE</td>\n",
       "      <td>Yes</td>\n",
       "      <td>Yes</td>\n",
       "      <td>No</td>\n",
       "      <td>Yes</td>\n",
       "      <td>No</td>\n",
       "      <td>Yes</td>\n",
       "      <td>Yes</td>\n",
       "      <td>...</td>\n",
       "      <td>Yes</td>\n",
       "      <td>Yes</td>\n",
       "      <td>No</td>\n",
       "      <td>Yes</td>\n",
       "      <td>Yes</td>\n",
       "      <td>No</td>\n",
       "      <td>Yes</td>\n",
       "      <td>&gt;2 hours</td>\n",
       "      <td>Yes</td>\n",
       "      <td>No</td>\n",
       "    </tr>\n",
       "    <tr>\n",
       "      <th>500</th>\n",
       "      <td>2023/03/28 2:39:59 PM GMT+5:30</td>\n",
       "      <td>Puri jaganath</td>\n",
       "      <td>MALE</td>\n",
       "      <td>Yes</td>\n",
       "      <td>Yes</td>\n",
       "      <td>No</td>\n",
       "      <td>Yes</td>\n",
       "      <td>Yes</td>\n",
       "      <td>Yes</td>\n",
       "      <td>Yes</td>\n",
       "      <td>...</td>\n",
       "      <td>NaN</td>\n",
       "      <td>NaN</td>\n",
       "      <td>Yes</td>\n",
       "      <td>Yes</td>\n",
       "      <td>Yes</td>\n",
       "      <td>Yes</td>\n",
       "      <td>Yes</td>\n",
       "      <td>&gt;2 hours</td>\n",
       "      <td>No</td>\n",
       "      <td>Yes</td>\n",
       "    </tr>\n",
       "  </tbody>\n",
       "</table>\n",
       "<p>5 rows × 21 columns</p>\n",
       "</div>"
      ],
      "text/plain": [
       "                          Timestamp     Full Name : Gender :  \\\n",
       "496  2023/03/28 2:36:46 PM GMT+5:30         Sahadev     MALE   \n",
       "497  2023/03/28 2:37:54 PM GMT+5:30         Chandra     MALE   \n",
       "498  2023/03/28 2:38:26 PM GMT+5:30          Laxman     MALE   \n",
       "499  2023/03/28 2:39:19 PM GMT+5:30     Sheri mohan     MALE   \n",
       "500  2023/03/28 2:39:59 PM GMT+5:30  Puri jaganath      MALE   \n",
       "\n",
       "    Do you use your phone to click pictures of class notes?  \\\n",
       "496                                                 No        \n",
       "497                                                Yes        \n",
       "498                                                 No        \n",
       "499                                                Yes        \n",
       "500                                                Yes        \n",
       "\n",
       "    Do you buy books/access books from your mobile?  \\\n",
       "496                                              No   \n",
       "497                                              No   \n",
       "498                                              No   \n",
       "499                                             Yes   \n",
       "500                                             Yes   \n",
       "\n",
       "    Does your phone's battery last a day?  \\\n",
       "496                                    No   \n",
       "497                                   Yes   \n",
       "498                                   Yes   \n",
       "499                                    No   \n",
       "500                                    No   \n",
       "\n",
       "    When your phone's battery dies out, do you run for the charger?  \\\n",
       "496                                                Yes                \n",
       "497                                                Yes                \n",
       "498                                                Yes                \n",
       "499                                                Yes                \n",
       "500                                                Yes                \n",
       "\n",
       "    Do you worry about losing your cell phone?  \\\n",
       "496                                         No   \n",
       "497                                         No   \n",
       "498                                        Yes   \n",
       "499                                         No   \n",
       "500                                        Yes   \n",
       "\n",
       "    Do you take your phone to the bathroom?  \\\n",
       "496                                      No   \n",
       "497                                     Yes   \n",
       "498                                      No   \n",
       "499                                     Yes   \n",
       "500                                     Yes   \n",
       "\n",
       "    Do you use your phone in any social gathering (parties)?  ...  \\\n",
       "496                                                 No        ...   \n",
       "497                                                Yes        ...   \n",
       "498                                                Yes        ...   \n",
       "499                                                Yes        ...   \n",
       "500                                                Yes        ...   \n",
       "\n",
       "    Do you check your phone just before going to sleep/just after waking up?  \\\n",
       "496                                                Yes                         \n",
       "497                                                Yes                         \n",
       "498                                                 No                         \n",
       "499                                                Yes                         \n",
       "500                                                NaN                         \n",
       "\n",
       "    Do you keep your phone right next to you while sleeping?  \\\n",
       "496                                                Yes         \n",
       "497                                                Yes         \n",
       "498                                                 No         \n",
       "499                                                Yes         \n",
       "500                                                NaN         \n",
       "\n",
       "    Do you check emails, missed calls, texts during class time?   \\\n",
       "496                                                 No             \n",
       "497                                                Yes             \n",
       "498                                                Yes             \n",
       "499                                                 No             \n",
       "500                                                Yes             \n",
       "\n",
       "    Do you find yourself relying on your phone when things get awkward?  \\\n",
       "496                                                 No                    \n",
       "497                                                 No                    \n",
       "498                                                 No                    \n",
       "499                                                Yes                    \n",
       "500                                                Yes                    \n",
       "\n",
       "    Are you on your phone while watching TV or eating food?  \\\n",
       "496                                                Yes        \n",
       "497                                                Yes        \n",
       "498                                                Yes        \n",
       "499                                                Yes        \n",
       "500                                                Yes        \n",
       "\n",
       "    Do you have a panic attack if you leave your phone elsewhere?  \\\n",
       "496                                                Yes              \n",
       "497                                                Yes              \n",
       "498                                                 No              \n",
       "499                                                 No              \n",
       "500                                                Yes              \n",
       "\n",
       "    You don't mind responding to messages or checking your phone while on date?   \\\n",
       "496                                                 No                             \n",
       "497                                                Yes                             \n",
       "498                                                Yes                             \n",
       "499                                                Yes                             \n",
       "500                                                Yes                             \n",
       "\n",
       "    For how long do you use your phone for playing games?  \\\n",
       "496                                           <2 hours      \n",
       "497                                           >2 hours      \n",
       "498                                           >2 hours      \n",
       "499                                           >2 hours      \n",
       "500                                           >2 hours      \n",
       "\n",
       "    Can you live a day without phone ?  whether you are addicted to phone?  \n",
       "496                                 Yes                                 No  \n",
       "497                                 Yes                                 No  \n",
       "498                                 Yes                                Yes  \n",
       "499                                 Yes                                 No  \n",
       "500                                  No                                Yes  \n",
       "\n",
       "[5 rows x 21 columns]"
      ]
     },
     "execution_count": 14,
     "metadata": {},
     "output_type": "execute_result"
    }
   ],
   "source": [
    "# Show The Last Five Row\n",
    "df.tail()"
   ]
  },
  {
   "attachments": {},
   "cell_type": "markdown",
   "metadata": {},
   "source": [
    "# **Informationn about Dataset**"
   ]
  },
  {
   "cell_type": "code",
   "execution_count": 15,
   "metadata": {},
   "outputs": [
    {
     "name": "stdout",
     "output_type": "stream",
     "text": [
      "<class 'pandas.core.frame.DataFrame'>\n",
      "RangeIndex: 501 entries, 0 to 500\n",
      "Data columns (total 21 columns):\n",
      " #   Column                                                                        Non-Null Count  Dtype \n",
      "---  ------                                                                        --------------  ----- \n",
      " 0   Timestamp                                                                     501 non-null    object\n",
      " 1   Full Name :                                                                   496 non-null    object\n",
      " 2   Gender :                                                                      500 non-null    object\n",
      " 3   Do you use your phone to click pictures of class notes?                       499 non-null    object\n",
      " 4   Do you buy books/access books from your mobile?                               499 non-null    object\n",
      " 5   Does your phone's battery last a day?                                         498 non-null    object\n",
      " 6   When your phone's battery dies out, do you run for the charger?               498 non-null    object\n",
      " 7   Do you worry about losing your cell phone?                                    500 non-null    object\n",
      " 8   Do you take your phone to the bathroom?                                       499 non-null    object\n",
      " 9   Do you use your phone in any social gathering (parties)?                      500 non-null    object\n",
      " 10  Do you often check your phone without any notification?                       500 non-null    object\n",
      " 11  Do you check your phone just before going to sleep/just after waking up?      499 non-null    object\n",
      " 12  Do you keep your phone right next to you while sleeping?                      498 non-null    object\n",
      " 13  Do you check emails, missed calls, texts during class time?                   498 non-null    object\n",
      " 14  Do you find yourself relying on your phone when things get awkward?           497 non-null    object\n",
      " 15  Are you on your phone while watching TV or eating food?                       500 non-null    object\n",
      " 16  Do you have a panic attack if you leave your phone elsewhere?                 500 non-null    object\n",
      " 17  You don't mind responding to messages or checking your phone while on date?   496 non-null    object\n",
      " 18  For how long do you use your phone for playing games?                         497 non-null    object\n",
      " 19  Can you live a day without phone ?                                            499 non-null    object\n",
      " 20  whether you are addicted to phone?                                            499 non-null    object\n",
      "dtypes: object(21)\n",
      "memory usage: 82.3+ KB\n"
     ]
    }
   ],
   "source": [
    "# check The Datatype\n",
    "df.info()"
   ]
  },
  {
   "cell_type": "code",
   "execution_count": 16,
   "metadata": {},
   "outputs": [
    {
     "data": {
      "text/plain": [
       "(501, 21)"
      ]
     },
     "execution_count": 16,
     "metadata": {},
     "output_type": "execute_result"
    }
   ],
   "source": [
    "# shape of The Dataset\n",
    "df.shape"
   ]
  },
  {
   "cell_type": "code",
   "execution_count": 17,
   "metadata": {},
   "outputs": [
    {
     "data": {
      "text/plain": [
       "Timestamp                                                                       0\n",
       "Full Name :                                                                     5\n",
       "Gender :                                                                        1\n",
       "Do you use your phone to click pictures of class notes?                         2\n",
       "Do you buy books/access books from your mobile?                                 2\n",
       "Does your phone's battery last a day?                                           3\n",
       "When your phone's battery dies out, do you run for the charger?                 3\n",
       "Do you worry about losing your cell phone?                                      1\n",
       "Do you take your phone to the bathroom?                                         2\n",
       "Do you use your phone in any social gathering (parties)?                        1\n",
       "Do you often check your phone without any notification?                         1\n",
       "Do you check your phone just before going to sleep/just after waking up?        2\n",
       "Do you keep your phone right next to you while sleeping?                        3\n",
       "Do you check emails, missed calls, texts during class time?                     3\n",
       "Do you find yourself relying on your phone when things get awkward?             4\n",
       "Are you on your phone while watching TV or eating food?                         1\n",
       "Do you have a panic attack if you leave your phone elsewhere?                   1\n",
       "You don't mind responding to messages or checking your phone while on date?     5\n",
       "For how long do you use your phone for playing games?                           4\n",
       "Can you live a day without phone ?                                              2\n",
       "whether you are addicted to phone?                                              2\n",
       "dtype: int64"
      ]
     },
     "execution_count": 17,
     "metadata": {},
     "output_type": "execute_result"
    }
   ],
   "source": [
    "# Check The Null Values\n",
    "df.isnull().sum()"
   ]
  },
  {
   "cell_type": "code",
   "execution_count": null,
   "metadata": {},
   "outputs": [],
   "source": [
    "\n",
    "# Check The Duplicate Vlue\n",
    "df.duplicated()"
   ]
  },
  {
   "cell_type": "code",
   "execution_count": 18,
   "metadata": {},
   "outputs": [
    {
     "data": {
      "text/html": [
       "<div>\n",
       "<style scoped>\n",
       "    .dataframe tbody tr th:only-of-type {\n",
       "        vertical-align: middle;\n",
       "    }\n",
       "\n",
       "    .dataframe tbody tr th {\n",
       "        vertical-align: top;\n",
       "    }\n",
       "\n",
       "    .dataframe thead th {\n",
       "        text-align: right;\n",
       "    }\n",
       "</style>\n",
       "<table border=\"1\" class=\"dataframe\">\n",
       "  <thead>\n",
       "    <tr style=\"text-align: right;\">\n",
       "      <th></th>\n",
       "      <th>Timestamp</th>\n",
       "      <th>Full Name :</th>\n",
       "      <th>Gender :</th>\n",
       "      <th>Do you use your phone to click pictures of class notes?</th>\n",
       "      <th>Do you buy books/access books from your mobile?</th>\n",
       "      <th>Does your phone's battery last a day?</th>\n",
       "      <th>When your phone's battery dies out, do you run for the charger?</th>\n",
       "      <th>Do you worry about losing your cell phone?</th>\n",
       "      <th>Do you take your phone to the bathroom?</th>\n",
       "      <th>Do you use your phone in any social gathering (parties)?</th>\n",
       "      <th>...</th>\n",
       "      <th>Do you check your phone just before going to sleep/just after waking up?</th>\n",
       "      <th>Do you keep your phone right next to you while sleeping?</th>\n",
       "      <th>Do you check emails, missed calls, texts during class time?</th>\n",
       "      <th>Do you find yourself relying on your phone when things get awkward?</th>\n",
       "      <th>Are you on your phone while watching TV or eating food?</th>\n",
       "      <th>Do you have a panic attack if you leave your phone elsewhere?</th>\n",
       "      <th>You don't mind responding to messages or checking your phone while on date?</th>\n",
       "      <th>For how long do you use your phone for playing games?</th>\n",
       "      <th>Can you live a day without phone ?</th>\n",
       "      <th>whether you are addicted to phone?</th>\n",
       "    </tr>\n",
       "  </thead>\n",
       "  <tbody>\n",
       "    <tr>\n",
       "      <th>count</th>\n",
       "      <td>501</td>\n",
       "      <td>496</td>\n",
       "      <td>500</td>\n",
       "      <td>499</td>\n",
       "      <td>499</td>\n",
       "      <td>498</td>\n",
       "      <td>498</td>\n",
       "      <td>500</td>\n",
       "      <td>499</td>\n",
       "      <td>500</td>\n",
       "      <td>...</td>\n",
       "      <td>499</td>\n",
       "      <td>498</td>\n",
       "      <td>498</td>\n",
       "      <td>497</td>\n",
       "      <td>500</td>\n",
       "      <td>500</td>\n",
       "      <td>496</td>\n",
       "      <td>497</td>\n",
       "      <td>499</td>\n",
       "      <td>499</td>\n",
       "    </tr>\n",
       "    <tr>\n",
       "      <th>unique</th>\n",
       "      <td>308</td>\n",
       "      <td>271</td>\n",
       "      <td>3</td>\n",
       "      <td>2</td>\n",
       "      <td>2</td>\n",
       "      <td>2</td>\n",
       "      <td>3</td>\n",
       "      <td>2</td>\n",
       "      <td>2</td>\n",
       "      <td>2</td>\n",
       "      <td>...</td>\n",
       "      <td>2</td>\n",
       "      <td>2</td>\n",
       "      <td>2</td>\n",
       "      <td>2</td>\n",
       "      <td>2</td>\n",
       "      <td>2</td>\n",
       "      <td>2</td>\n",
       "      <td>2</td>\n",
       "      <td>2</td>\n",
       "      <td>3</td>\n",
       "    </tr>\n",
       "    <tr>\n",
       "      <th>top</th>\n",
       "      <td>2023/03/10 3:29:09 PM GMT+5:30</td>\n",
       "      <td>pawan</td>\n",
       "      <td>MALE</td>\n",
       "      <td>Yes</td>\n",
       "      <td>No</td>\n",
       "      <td>Yes</td>\n",
       "      <td>Yes</td>\n",
       "      <td>No</td>\n",
       "      <td>Yes</td>\n",
       "      <td>No</td>\n",
       "      <td>...</td>\n",
       "      <td>No</td>\n",
       "      <td>No</td>\n",
       "      <td>No</td>\n",
       "      <td>Yes</td>\n",
       "      <td>No</td>\n",
       "      <td>No</td>\n",
       "      <td>Yes</td>\n",
       "      <td>&gt;2 hours</td>\n",
       "      <td>Yes</td>\n",
       "      <td>No</td>\n",
       "    </tr>\n",
       "    <tr>\n",
       "      <th>freq</th>\n",
       "      <td>19</td>\n",
       "      <td>20</td>\n",
       "      <td>417</td>\n",
       "      <td>441</td>\n",
       "      <td>318</td>\n",
       "      <td>406</td>\n",
       "      <td>417</td>\n",
       "      <td>285</td>\n",
       "      <td>367</td>\n",
       "      <td>303</td>\n",
       "      <td>...</td>\n",
       "      <td>294</td>\n",
       "      <td>310</td>\n",
       "      <td>340</td>\n",
       "      <td>411</td>\n",
       "      <td>319</td>\n",
       "      <td>308</td>\n",
       "      <td>394</td>\n",
       "      <td>331</td>\n",
       "      <td>413</td>\n",
       "      <td>322</td>\n",
       "    </tr>\n",
       "  </tbody>\n",
       "</table>\n",
       "<p>4 rows × 21 columns</p>\n",
       "</div>"
      ],
      "text/plain": [
       "                             Timestamp Full Name : Gender :  \\\n",
       "count                              501         496      500   \n",
       "unique                             308         271        3   \n",
       "top     2023/03/10 3:29:09 PM GMT+5:30       pawan     MALE   \n",
       "freq                                19          20      417   \n",
       "\n",
       "       Do you use your phone to click pictures of class notes?  \\\n",
       "count                                                 499        \n",
       "unique                                                  2        \n",
       "top                                                   Yes        \n",
       "freq                                                  441        \n",
       "\n",
       "       Do you buy books/access books from your mobile?  \\\n",
       "count                                              499   \n",
       "unique                                               2   \n",
       "top                                                 No   \n",
       "freq                                               318   \n",
       "\n",
       "       Does your phone's battery last a day?  \\\n",
       "count                                    498   \n",
       "unique                                     2   \n",
       "top                                      Yes   \n",
       "freq                                     406   \n",
       "\n",
       "       When your phone's battery dies out, do you run for the charger?  \\\n",
       "count                                                 498                \n",
       "unique                                                  3                \n",
       "top                                                   Yes                \n",
       "freq                                                  417                \n",
       "\n",
       "       Do you worry about losing your cell phone?  \\\n",
       "count                                         500   \n",
       "unique                                          2   \n",
       "top                                            No   \n",
       "freq                                          285   \n",
       "\n",
       "       Do you take your phone to the bathroom?  \\\n",
       "count                                      499   \n",
       "unique                                       2   \n",
       "top                                        Yes   \n",
       "freq                                       367   \n",
       "\n",
       "       Do you use your phone in any social gathering (parties)?  ...  \\\n",
       "count                                                 500        ...   \n",
       "unique                                                  2        ...   \n",
       "top                                                    No        ...   \n",
       "freq                                                  303        ...   \n",
       "\n",
       "       Do you check your phone just before going to sleep/just after waking up?  \\\n",
       "count                                                 499                         \n",
       "unique                                                  2                         \n",
       "top                                                    No                         \n",
       "freq                                                  294                         \n",
       "\n",
       "       Do you keep your phone right next to you while sleeping?  \\\n",
       "count                                                 498         \n",
       "unique                                                  2         \n",
       "top                                                    No         \n",
       "freq                                                  310         \n",
       "\n",
       "       Do you check emails, missed calls, texts during class time?   \\\n",
       "count                                                 498             \n",
       "unique                                                  2             \n",
       "top                                                    No             \n",
       "freq                                                  340             \n",
       "\n",
       "       Do you find yourself relying on your phone when things get awkward?  \\\n",
       "count                                                 497                    \n",
       "unique                                                  2                    \n",
       "top                                                   Yes                    \n",
       "freq                                                  411                    \n",
       "\n",
       "       Are you on your phone while watching TV or eating food?  \\\n",
       "count                                                 500        \n",
       "unique                                                  2        \n",
       "top                                                    No        \n",
       "freq                                                  319        \n",
       "\n",
       "       Do you have a panic attack if you leave your phone elsewhere?  \\\n",
       "count                                                 500              \n",
       "unique                                                  2              \n",
       "top                                                    No              \n",
       "freq                                                  308              \n",
       "\n",
       "       You don't mind responding to messages or checking your phone while on date?   \\\n",
       "count                                                 496                             \n",
       "unique                                                  2                             \n",
       "top                                                   Yes                             \n",
       "freq                                                  394                             \n",
       "\n",
       "       For how long do you use your phone for playing games?  \\\n",
       "count                                                 497      \n",
       "unique                                                  2      \n",
       "top                                              >2 hours      \n",
       "freq                                                  331      \n",
       "\n",
       "       Can you live a day without phone ?  whether you are addicted to phone?  \n",
       "count                                  499                                499  \n",
       "unique                                   2                                  3  \n",
       "top                                    Yes                                 No  \n",
       "freq                                   413                                322  \n",
       "\n",
       "[4 rows x 21 columns]"
      ]
     },
     "execution_count": 18,
     "metadata": {},
     "output_type": "execute_result"
    }
   ],
   "source": [
    "# Describe The Dataset\n",
    "df.describe()"
   ]
  },
  {
   "cell_type": "code",
   "execution_count": null,
   "metadata": {},
   "outputs": [],
   "source": [
    "# total null valus in Dataset\n",
    "df.isnull().sum().sum()"
   ]
  },
  {
   "cell_type": "code",
   "execution_count": null,
   "metadata": {},
   "outputs": [],
   "source": [
    "df.columns"
   ]
  },
  {
   "cell_type": "code",
   "execution_count": 19,
   "metadata": {},
   "outputs": [
    {
     "data": {
      "text/plain": [
       "whether you are addicted to phone?\n",
       "No       322\n",
       "Yes      176\n",
       "Maybe      1\n",
       "Name: count, dtype: int64"
      ]
     },
     "execution_count": 19,
     "metadata": {},
     "output_type": "execute_result"
    }
   ],
   "source": [
    "df['whether you are addicted to phone?'].value_counts()"
   ]
  },
  {
   "attachments": {},
   "cell_type": "markdown",
   "metadata": {},
   "source": [
    "# **Preprocessing**"
   ]
  },
  {
   "cell_type": "code",
   "execution_count": null,
   "metadata": {},
   "outputs": [],
   "source": [
    "df.info()"
   ]
  },
  {
   "cell_type": "code",
   "execution_count": null,
   "metadata": {},
   "outputs": [],
   "source": [
    "# **fill a Null Values**\n",
    "col = df[['Timestamp', 'Full Name :', 'Gender :',\n",
    "       'Do you use your phone to click pictures of class notes?',\n",
    "       'Do you buy books/access books from your mobile?',\n",
    "       \"Does your phone's battery last a day?\",\n",
    "       \"When your phone's battery dies out, do you run for the charger?\",\n",
    "       'Do you worry about losing your cell phone?',\n",
    "       'Do you take your phone to the bathroom?',\n",
    "       'Do you use your phone in any social gathering (parties)?',\n",
    "       'Do you often check your phone without any notification? ',\n",
    "       'Do you check your phone just before going to sleep/just after waking up?',\n",
    "       'Do you keep your phone right next to you while sleeping?',\n",
    "       'Do you check emails, missed calls, texts during class time? ',\n",
    "       'Do you find yourself relying on your phone when things get awkward?',\n",
    "       'Are you on your phone while watching TV or eating food?',\n",
    "       'Do you have a panic attack if you leave your phone elsewhere?',\n",
    "       \"You don't mind responding to messages or checking your phone while on date? \",\n",
    "       'For how long do you use your phone for playing games?',\n",
    "       'Can you live a day without phone ? ',\n",
    "       'whether you are addicted to phone?']]"
   ]
  },
  {
   "cell_type": "code",
   "execution_count": null,
   "metadata": {},
   "outputs": [],
   "source": [
    "# filling a null Values applying a ffill method\n",
    "for i in col:\n",
    "    df[i].fillna(method='ffill',inplace=True)"
   ]
  },
  {
   "cell_type": "code",
   "execution_count": null,
   "metadata": {},
   "outputs": [],
   "source": [
    "df['Can you live a day without phone ? '].fillna(method='bfill',inplace=True)\n",
    "df['whether you are addicted to phone?'].fillna(method='bfill',inplace=True)"
   ]
  },
  {
   "cell_type": "code",
   "execution_count": null,
   "metadata": {},
   "outputs": [],
   "source": [
    "df.isnull().sum()"
   ]
  },
  {
   "cell_type": "code",
   "execution_count": null,
   "metadata": {},
   "outputs": [],
   "source": [
    "# before Label Encoding\n",
    "df.head()"
   ]
  },
  {
   "cell_type": "code",
   "execution_count": 20,
   "metadata": {},
   "outputs": [
    {
     "ename": "NameError",
     "evalue": "name 'LabelEncoder' is not defined",
     "output_type": "error",
     "traceback": [
      "\u001b[1;31m---------------------------------------------------------------------------\u001b[0m",
      "\u001b[1;31mNameError\u001b[0m                                 Traceback (most recent call last)",
      "Cell \u001b[1;32mIn[20], line 2\u001b[0m\n\u001b[0;32m      1\u001b[0m \u001b[38;5;66;03m# Apply The Label Encoding\u001b[39;00m\n\u001b[1;32m----> 2\u001b[0m le \u001b[38;5;241m=\u001b[39m \u001b[43mLabelEncoder\u001b[49m()\n",
      "\u001b[1;31mNameError\u001b[0m: name 'LabelEncoder' is not defined"
     ]
    }
   ],
   "source": [
    "# Apply The Label Encoding\n",
    "le = LabelEncoder()"
   ]
  },
  {
   "cell_type": "code",
   "execution_count": 21,
   "metadata": {},
   "outputs": [
    {
     "ename": "NameError",
     "evalue": "name 'col' is not defined",
     "output_type": "error",
     "traceback": [
      "\u001b[1;31m---------------------------------------------------------------------------\u001b[0m",
      "\u001b[1;31mNameError\u001b[0m                                 Traceback (most recent call last)",
      "Cell \u001b[1;32mIn[21], line 1\u001b[0m\n\u001b[1;32m----> 1\u001b[0m \u001b[38;5;28;01mfor\u001b[39;00m i \u001b[38;5;129;01min\u001b[39;00m \u001b[43mcol\u001b[49m:\n\u001b[0;32m      2\u001b[0m     df[i]\u001b[38;5;241m=\u001b[39mle\u001b[38;5;241m.\u001b[39mfit_transform(df[i])\n",
      "\u001b[1;31mNameError\u001b[0m: name 'col' is not defined"
     ]
    }
   ],
   "source": [
    "for i in col:\n",
    "    df[i]=le.fit_transform(df[i])"
   ]
  },
  {
   "cell_type": "code",
   "execution_count": null,
   "metadata": {},
   "outputs": [],
   "source": [
    "# After Label Encoding\n",
    "df.head()"
   ]
  },
  {
   "cell_type": "code",
   "execution_count": 22,
   "metadata": {},
   "outputs": [
    {
     "data": {
      "text/plain": [
       "whether you are addicted to phone?\n",
       "No       322\n",
       "Yes      176\n",
       "Maybe      1\n",
       "Name: count, dtype: int64"
      ]
     },
     "execution_count": 22,
     "metadata": {},
     "output_type": "execute_result"
    }
   ],
   "source": [
    "df['whether you are addicted to phone?'].value_counts()"
   ]
  },
  {
   "attachments": {},
   "cell_type": "markdown",
   "metadata": {},
   "source": [
    "# **EDA**"
   ]
  },
  {
   "cell_type": "code",
   "execution_count": 23,
   "metadata": {},
   "outputs": [
    {
     "ename": "NameError",
     "evalue": "name 'plt' is not defined",
     "output_type": "error",
     "traceback": [
      "\u001b[1;31m---------------------------------------------------------------------------\u001b[0m",
      "\u001b[1;31mNameError\u001b[0m                                 Traceback (most recent call last)",
      "Cell \u001b[1;32mIn[23], line 6\u001b[0m\n\u001b[0;32m      4\u001b[0m         plt\u001b[38;5;241m.\u001b[39mfigure(figsize\u001b[38;5;241m=\u001b[39m(\u001b[38;5;241m17\u001b[39m,\u001b[38;5;241m1\u001b[39m))\n\u001b[0;32m      5\u001b[0m         sns\u001b[38;5;241m.\u001b[39mhistplot(data\u001b[38;5;241m=\u001b[39mdf1, x\u001b[38;5;241m=\u001b[39mcolumn)\n\u001b[1;32m----> 6\u001b[0m \u001b[43mplt\u001b[49m\u001b[38;5;241m.\u001b[39mshow()\n",
      "\u001b[1;31mNameError\u001b[0m: name 'plt' is not defined"
     ]
    }
   ],
   "source": [
    "# Histplot of every column in dataset\n",
    "df1=df.select_dtypes(exclude=['object','bool'])\n",
    "for column in df1:\n",
    "        plt.figure(figsize=(17,1))\n",
    "        sns.histplot(data=df1, x=column)\n",
    "plt.show()"
   ]
  },
  {
   "cell_type": "code",
   "execution_count": null,
   "metadata": {},
   "outputs": [],
   "source": [
    "# countplot of every column in dataset\n",
    "df1=df.select_dtypes(exclude=['object','bool'])\n",
    "for column in df1:\n",
    "        plt.figure(figsize=(17,1))\n",
    "        sns.countplot(data=df1, x=column)\n",
    "plt.show()"
   ]
  },
  {
   "cell_type": "code",
   "execution_count": 24,
   "metadata": {},
   "outputs": [
    {
     "name": "stdout",
     "output_type": "stream",
     "text": [
      "<class 'pandas.core.frame.DataFrame'>\n",
      "RangeIndex: 501 entries, 0 to 500\n",
      "Data columns (total 21 columns):\n",
      " #   Column                                                                        Non-Null Count  Dtype \n",
      "---  ------                                                                        --------------  ----- \n",
      " 0   Timestamp                                                                     501 non-null    object\n",
      " 1   Full Name :                                                                   496 non-null    object\n",
      " 2   Gender :                                                                      500 non-null    object\n",
      " 3   Do you use your phone to click pictures of class notes?                       499 non-null    object\n",
      " 4   Do you buy books/access books from your mobile?                               499 non-null    object\n",
      " 5   Does your phone's battery last a day?                                         498 non-null    object\n",
      " 6   When your phone's battery dies out, do you run for the charger?               498 non-null    object\n",
      " 7   Do you worry about losing your cell phone?                                    500 non-null    object\n",
      " 8   Do you take your phone to the bathroom?                                       499 non-null    object\n",
      " 9   Do you use your phone in any social gathering (parties)?                      500 non-null    object\n",
      " 10  Do you often check your phone without any notification?                       500 non-null    object\n",
      " 11  Do you check your phone just before going to sleep/just after waking up?      499 non-null    object\n",
      " 12  Do you keep your phone right next to you while sleeping?                      498 non-null    object\n",
      " 13  Do you check emails, missed calls, texts during class time?                   498 non-null    object\n",
      " 14  Do you find yourself relying on your phone when things get awkward?           497 non-null    object\n",
      " 15  Are you on your phone while watching TV or eating food?                       500 non-null    object\n",
      " 16  Do you have a panic attack if you leave your phone elsewhere?                 500 non-null    object\n",
      " 17  You don't mind responding to messages or checking your phone while on date?   496 non-null    object\n",
      " 18  For how long do you use your phone for playing games?                         497 non-null    object\n",
      " 19  Can you live a day without phone ?                                            499 non-null    object\n",
      " 20  whether you are addicted to phone?                                            499 non-null    object\n",
      "dtypes: object(21)\n",
      "memory usage: 82.3+ KB\n"
     ]
    }
   ],
   "source": [
    "df.info()"
   ]
  },
  {
   "cell_type": "code",
   "execution_count": 25,
   "metadata": {},
   "outputs": [
    {
     "ename": "NameError",
     "evalue": "name 'sns' is not defined",
     "output_type": "error",
     "traceback": [
      "\u001b[1;31m---------------------------------------------------------------------------\u001b[0m",
      "\u001b[1;31mNameError\u001b[0m                                 Traceback (most recent call last)",
      "Cell \u001b[1;32mIn[25], line 2\u001b[0m\n\u001b[0;32m      1\u001b[0m \u001b[38;5;66;03m# Target column lineplot\u001b[39;00m\n\u001b[1;32m----> 2\u001b[0m \u001b[43msns\u001b[49m\u001b[38;5;241m.\u001b[39mlineplot(df[\u001b[38;5;124m\"\u001b[39m\u001b[38;5;124mwhether you are addicted to phone?\u001b[39m\u001b[38;5;124m\"\u001b[39m])\n",
      "\u001b[1;31mNameError\u001b[0m: name 'sns' is not defined"
     ]
    }
   ],
   "source": [
    "# Target column lineplot\n",
    "sns.lineplot(df[\"whether you are addicted to phone?\"])"
   ]
  },
  {
   "cell_type": "code",
   "execution_count": 26,
   "metadata": {},
   "outputs": [
    {
     "ename": "NameError",
     "evalue": "name 'sns' is not defined",
     "output_type": "error",
     "traceback": [
      "\u001b[1;31m---------------------------------------------------------------------------\u001b[0m",
      "\u001b[1;31mNameError\u001b[0m                                 Traceback (most recent call last)",
      "Cell \u001b[1;32mIn[26], line 2\u001b[0m\n\u001b[0;32m      1\u001b[0m \u001b[38;5;66;03m# Target column lineplot\u001b[39;00m\n\u001b[1;32m----> 2\u001b[0m \u001b[43msns\u001b[49m\u001b[38;5;241m.\u001b[39mhistplot(df[\u001b[38;5;124m\"\u001b[39m\u001b[38;5;124mwhether you are addicted to phone?\u001b[39m\u001b[38;5;124m\"\u001b[39m])\n",
      "\u001b[1;31mNameError\u001b[0m: name 'sns' is not defined"
     ]
    }
   ],
   "source": [
    "# Target column lineplot\n",
    "sns.histplot(df[\"whether you are addicted to phone?\"])"
   ]
  },
  {
   "cell_type": "code",
   "execution_count": null,
   "metadata": {},
   "outputs": [],
   "source": [
    "# target column kdeplot\n",
    "sns.kdeplot(df[\"whether you are addicted to phone?\"])"
   ]
  },
  {
   "cell_type": "code",
   "execution_count": 27,
   "metadata": {},
   "outputs": [
    {
     "ename": "NameError",
     "evalue": "name 'sns' is not defined",
     "output_type": "error",
     "traceback": [
      "\u001b[1;31m---------------------------------------------------------------------------\u001b[0m",
      "\u001b[1;31mNameError\u001b[0m                                 Traceback (most recent call last)",
      "Cell \u001b[1;32mIn[27], line 2\u001b[0m\n\u001b[0;32m      1\u001b[0m \u001b[38;5;66;03m# pairplot of every column in dataset\u001b[39;00m\n\u001b[1;32m----> 2\u001b[0m \u001b[43msns\u001b[49m\u001b[38;5;241m.\u001b[39mpairplot(df)\n",
      "\u001b[1;31mNameError\u001b[0m: name 'sns' is not defined"
     ]
    }
   ],
   "source": [
    "# pairplot of every column in dataset\n",
    "sns.pairplot(df)"
   ]
  },
  {
   "attachments": {},
   "cell_type": "markdown",
   "metadata": {},
   "source": [
    "# **Split The Data**"
   ]
  },
  {
   "cell_type": "code",
   "execution_count": null,
   "metadata": {},
   "outputs": [],
   "source": [
    "# Delete The unknown column\n",
    "df.drop('Timestamp', axis = 1,inplace = True)"
   ]
  },
  {
   "cell_type": "code",
   "execution_count": null,
   "metadata": {},
   "outputs": [],
   "source": [
    "\n",
    "x = df.drop(['whether you are addicted to phone?'], axis = 1) \n",
    "y = df['whether you are addicted to phone?']"
   ]
  },
  {
   "cell_type": "code",
   "execution_count": 28,
   "metadata": {},
   "outputs": [
    {
     "ename": "NameError",
     "evalue": "name 'RandomOverSampler' is not defined",
     "output_type": "error",
     "traceback": [
      "\u001b[1;31m---------------------------------------------------------------------------\u001b[0m",
      "\u001b[1;31mNameError\u001b[0m                                 Traceback (most recent call last)",
      "Cell \u001b[1;32mIn[28], line 1\u001b[0m\n\u001b[1;32m----> 1\u001b[0m Oversample \u001b[38;5;241m=\u001b[39m \u001b[43mRandomOverSampler\u001b[49m(random_state\u001b[38;5;241m=\u001b[39m\u001b[38;5;241m72\u001b[39m)\n\u001b[0;32m      2\u001b[0m x_sm, y_sm \u001b[38;5;241m=\u001b[39m Oversample\u001b[38;5;241m.\u001b[39mfit_resample(x[:\u001b[38;5;241m100\u001b[39m],y[:\u001b[38;5;241m100\u001b[39m])\n",
      "\u001b[1;31mNameError\u001b[0m: name 'RandomOverSampler' is not defined"
     ]
    }
   ],
   "source": [
    "Oversample = RandomOverSampler(random_state=72)\n",
    "x_sm, y_sm = Oversample.fit_resample(x[:100],y[:100])"
   ]
  },
  {
   "cell_type": "code",
   "execution_count": 30,
   "metadata": {},
   "outputs": [
    {
     "ename": "NameError",
     "evalue": "name 'train_test_split' is not defined",
     "output_type": "error",
     "traceback": [
      "\u001b[1;31m---------------------------------------------------------------------------\u001b[0m",
      "\u001b[1;31mNameError\u001b[0m                                 Traceback (most recent call last)",
      "Cell \u001b[1;32mIn[30], line 1\u001b[0m\n\u001b[1;32m----> 1\u001b[0m x_train, x_test, y_train, y_test \u001b[38;5;241m=\u001b[39m \u001b[43mtrain_test_split\u001b[49m(x_sm, y_sm, test_size \u001b[38;5;241m=\u001b[39m \u001b[38;5;241m0.3\u001b[39m, random_state\u001b[38;5;241m=\u001b[39m \u001b[38;5;241m72\u001b[39m)\n",
      "\u001b[1;31mNameError\u001b[0m: name 'train_test_split' is not defined"
     ]
    }
   ],
   "source": [
    "x_train, x_test, y_train, y_test = train_test_split(x_sm, y_sm, test_size = 0.3, random_state= 72)"
   ]
  },
  {
   "cell_type": "code",
   "execution_count": null,
   "metadata": {},
   "outputs": [],
   "source": [
    "x_train.shape"
   ]
  },
  {
   "cell_type": "code",
   "execution_count": null,
   "metadata": {},
   "outputs": [],
   "source": [
    "x_test.shape"
   ]
  },
  {
   "cell_type": "code",
   "execution_count": null,
   "metadata": {},
   "outputs": [],
   "source": [
    "y_train.shape"
   ]
  },
  {
   "cell_type": "code",
   "execution_count": null,
   "metadata": {},
   "outputs": [],
   "source": [
    "y_test.shape"
   ]
  },
  {
   "attachments": {},
   "cell_type": "markdown",
   "metadata": {},
   "source": [
    "# **Module Train**"
   ]
  },
  {
   "attachments": {},
   "cell_type": "markdown",
   "metadata": {},
   "source": [
    "## **RendomForestClasifier**"
   ]
  },
  {
   "cell_type": "code",
   "execution_count": null,
   "metadata": {},
   "outputs": [],
   "source": [
    "from sklearn.ensemble import RandomForestClassifier\n",
    "re = RandomForestClassifier(random_state=72)\n",
    "re.fit(x_train,y_train)\n",
    "re_pred = re.predict(x_test)\n",
    "ac = accuracy_score(y_test,re_pred)\n",
    "ac"
   ]
  },
  {
   "attachments": {},
   "cell_type": "markdown",
   "metadata": {},
   "source": [
    "## **DecisionTreeClasifier**"
   ]
  },
  {
   "cell_type": "code",
   "execution_count": null,
   "metadata": {},
   "outputs": [],
   "source": [
    "from sklearn.tree import DecisionTreeClassifier\n",
    "de = DecisionTreeClassifier()\n",
    "de.fit(x_train,y_train)\n",
    "de_pred = de.predict(x_test)\n",
    "ac1 = accuracy_score(y_test,de_pred)\n",
    "ac1"
   ]
  },
  {
   "attachments": {},
   "cell_type": "markdown",
   "metadata": {},
   "source": [
    "# **Logistic Regration**"
   ]
  },
  {
   "cell_type": "code",
   "execution_count": null,
   "metadata": {},
   "outputs": [],
   "source": [
    "from sklearn.linear_model import LogisticRegression\n",
    "le = LogisticRegression()\n",
    "le.fit(x_train,y_train)\n",
    "le_pred = le.predict(x_test)\n",
    "ac2 = accuracy_score(y_test,le_pred)\n",
    "ac2"
   ]
  },
  {
   "attachments": {},
   "cell_type": "markdown",
   "metadata": {},
   "source": [
    "# **Accuracy graph**"
   ]
  },
  {
   "cell_type": "code",
   "execution_count": null,
   "metadata": {},
   "outputs": [],
   "source": [
    "graph = pd.DataFrame({'Modules':['RendomForestClasifier','DecisionTreeClassifier','Logistic Regration'],\n",
    "          'Accuracy':[ac*100,ac1*100,ac2*100]})"
   ]
  },
  {
   "cell_type": "code",
   "execution_count": 11,
   "metadata": {},
   "outputs": [
    {
     "ename": "NameError",
     "evalue": "name 'graph' is not defined",
     "output_type": "error",
     "traceback": [
      "\u001b[1;31m---------------------------------------------------------------------------\u001b[0m",
      "\u001b[1;31mNameError\u001b[0m                                 Traceback (most recent call last)",
      "Cell \u001b[1;32mIn[11], line 1\u001b[0m\n\u001b[1;32m----> 1\u001b[0m \u001b[43mgraph\u001b[49m\n",
      "\u001b[1;31mNameError\u001b[0m: name 'graph' is not defined"
     ]
    }
   ],
   "source": [
    "graph"
   ]
  },
  {
   "cell_type": "code",
   "execution_count": null,
   "metadata": {},
   "outputs": [],
   "source": [
    "plt.figure(figsize=(7,6))\n",
    "sns.barplot(y=graph.Accuracy,x=graph.Modules)\n",
    "plt.xticks(rotation='vertical')\n",
    "plt.show()"
   ]
  },
  {
   "cell_type": "code",
   "execution_count": null,
   "metadata": {},
   "outputs": [],
   "source": []
  }
 ],
 "metadata": {
  "kernelspec": {
   "display_name": "base",
   "language": "python",
   "name": "python3"
  },
  "language_info": {
   "codemirror_mode": {
    "name": "ipython",
    "version": 3
   },
   "file_extension": ".py",
   "mimetype": "text/x-python",
   "name": "python",
   "nbconvert_exporter": "python",
   "pygments_lexer": "ipython3",
   "version": "3.10.8"
  },
  "orig_nbformat": 4
 },
 "nbformat": 4,
 "nbformat_minor": 2
}
